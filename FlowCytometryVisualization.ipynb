{
 "cells": [
  {
   "cell_type": "markdown",
   "metadata": {},
   "source": [
    "### Import flow cytometry data and process with `fcsparser` parser library"
   ]
  },
  {
   "cell_type": "code",
   "execution_count": 1,
   "metadata": {},
   "outputs": [
    {
     "data": {
      "text/plain": [
       "['FSC-H',\n",
       " 'FSC-A',\n",
       " 'SSC-H',\n",
       " 'SSC-A',\n",
       " 'APC-H',\n",
       " 'APC-A',\n",
       " 'PB450-H',\n",
       " 'PB450-A',\n",
       " 'ECD-H',\n",
       " 'ECD-A',\n",
       " 'FSC-Width',\n",
       " 'Time']"
      ]
     },
     "execution_count": 1,
     "metadata": {},
     "output_type": "execute_result"
    }
   ],
   "source": [
    "import fcsparser\n",
    "import os\n",
    "from pathlib import Path\n",
    "\n",
    "cwd = Path().resolve()\n",
    "fcsBaseFn = \"01-TripDay5-A1.fcs\"\n",
    "path = os.path.join(cwd, \"data\", fcsBaseFn)\n",
    "meta, data = fcsparser.parse(path, meta_data_only=False, reformat_meta=True)\n",
    "list(data)"
   ]
  },
  {
   "cell_type": "markdown",
   "metadata": {},
   "source": [
    "### Take a subset of the data"
   ]
  },
  {
   "cell_type": "code",
   "execution_count": 2,
   "metadata": {},
   "outputs": [
    {
     "data": {
      "text/html": [
       "<div>\n",
       "<style>\n",
       "    .dataframe thead tr:only-child th {\n",
       "        text-align: right;\n",
       "    }\n",
       "\n",
       "    .dataframe thead th {\n",
       "        text-align: left;\n",
       "    }\n",
       "\n",
       "    .dataframe tbody tr th {\n",
       "        vertical-align: top;\n",
       "    }\n",
       "</style>\n",
       "<table border=\"1\" class=\"dataframe\">\n",
       "  <thead>\n",
       "    <tr style=\"text-align: right;\">\n",
       "      <th></th>\n",
       "      <th>APC-H</th>\n",
       "      <th>PB450-H</th>\n",
       "      <th>ECD-H</th>\n",
       "    </tr>\n",
       "  </thead>\n",
       "  <tbody>\n",
       "    <tr>\n",
       "      <th>0</th>\n",
       "      <td>4840.399902</td>\n",
       "      <td>852.200012</td>\n",
       "      <td>649.500000</td>\n",
       "    </tr>\n",
       "    <tr>\n",
       "      <th>1</th>\n",
       "      <td>2291.800049</td>\n",
       "      <td>874.299988</td>\n",
       "      <td>594.599976</td>\n",
       "    </tr>\n",
       "    <tr>\n",
       "      <th>2</th>\n",
       "      <td>2495.600098</td>\n",
       "      <td>719.400024</td>\n",
       "      <td>509.700012</td>\n",
       "    </tr>\n",
       "    <tr>\n",
       "      <th>3</th>\n",
       "      <td>1660.599976</td>\n",
       "      <td>1273.099976</td>\n",
       "      <td>632.599976</td>\n",
       "    </tr>\n",
       "    <tr>\n",
       "      <th>4</th>\n",
       "      <td>2248.199951</td>\n",
       "      <td>890.900024</td>\n",
       "      <td>508.399994</td>\n",
       "    </tr>\n",
       "  </tbody>\n",
       "</table>\n",
       "</div>"
      ],
      "text/plain": [
       "         APC-H      PB450-H       ECD-H\n",
       "0  4840.399902   852.200012  649.500000\n",
       "1  2291.800049   874.299988  594.599976\n",
       "2  2495.600098   719.400024  509.700012\n",
       "3  1660.599976  1273.099976  632.599976\n",
       "4  2248.199951   890.900024  508.399994"
      ]
     },
     "execution_count": 2,
     "metadata": {},
     "output_type": "execute_result"
    }
   ],
   "source": [
    "colsOfInterest = ['APC-H', 'PB450-H', 'ECD-H']\n",
    "subset = data[colsOfInterest]\n",
    "subset.head(n=5)"
   ]
  },
  {
   "cell_type": "markdown",
   "metadata": {},
   "source": [
    "### Log-transform the subset"
   ]
  },
  {
   "cell_type": "code",
   "execution_count": 3,
   "metadata": {},
   "outputs": [
    {
     "data": {
      "text/html": [
       "<div>\n",
       "<style>\n",
       "    .dataframe thead tr:only-child th {\n",
       "        text-align: right;\n",
       "    }\n",
       "\n",
       "    .dataframe thead th {\n",
       "        text-align: left;\n",
       "    }\n",
       "\n",
       "    .dataframe tbody tr th {\n",
       "        vertical-align: top;\n",
       "    }\n",
       "</style>\n",
       "<table border=\"1\" class=\"dataframe\">\n",
       "  <thead>\n",
       "    <tr style=\"text-align: right;\">\n",
       "      <th></th>\n",
       "      <th>APC-H</th>\n",
       "      <th>PB450-H</th>\n",
       "      <th>ECD-H</th>\n",
       "    </tr>\n",
       "  </thead>\n",
       "  <tbody>\n",
       "    <tr>\n",
       "      <th>0</th>\n",
       "      <td>3.684881</td>\n",
       "      <td>2.930542</td>\n",
       "      <td>2.812579</td>\n",
       "    </tr>\n",
       "    <tr>\n",
       "      <th>1</th>\n",
       "      <td>3.360177</td>\n",
       "      <td>2.941660</td>\n",
       "      <td>2.774225</td>\n",
       "    </tr>\n",
       "    <tr>\n",
       "      <th>2</th>\n",
       "      <td>3.397175</td>\n",
       "      <td>2.856971</td>\n",
       "      <td>2.707315</td>\n",
       "    </tr>\n",
       "    <tr>\n",
       "      <th>3</th>\n",
       "      <td>3.220265</td>\n",
       "      <td>3.104862</td>\n",
       "      <td>2.801129</td>\n",
       "    </tr>\n",
       "    <tr>\n",
       "      <th>4</th>\n",
       "      <td>3.351835</td>\n",
       "      <td>2.949829</td>\n",
       "      <td>2.706206</td>\n",
       "    </tr>\n",
       "  </tbody>\n",
       "</table>\n",
       "</div>"
      ],
      "text/plain": [
       "      APC-H   PB450-H     ECD-H\n",
       "0  3.684881  2.930542  2.812579\n",
       "1  3.360177  2.941660  2.774225\n",
       "2  3.397175  2.856971  2.707315\n",
       "3  3.220265  3.104862  2.801129\n",
       "4  3.351835  2.949829  2.706206"
      ]
     },
     "execution_count": 3,
     "metadata": {},
     "output_type": "execute_result"
    }
   ],
   "source": [
    "import numpy as np\n",
    "\n",
    "subsetLog10 = subset.apply(np.log10)\n",
    "subsetLog10.head(n=5)"
   ]
  },
  {
   "cell_type": "markdown",
   "metadata": {},
   "source": [
    "### Render log-transformed subset into a 3D scatterplot via Plotly"
   ]
  },
  {
   "cell_type": "code",
   "execution_count": 4,
   "metadata": {},
   "outputs": [
    {
     "data": {
      "text/html": [
       "<script type=\"text/javascript\">window.PlotlyConfig = {MathJaxConfig: 'local'};</script><script type=\"text/javascript\">if (window.MathJax) {MathJax.Hub.Config({SVG: {font: \"STIX-Web\"}});}</script><script>requirejs.config({paths: { 'plotly': ['https://cdn.plot.ly/plotly-latest.min']},});if(!window._Plotly) {require(['plotly'],function(plotly) {window._Plotly=plotly;});}</script>"
      ],
      "text/vnd.plotly.v1+html": [
       "<script type=\"text/javascript\">window.PlotlyConfig = {MathJaxConfig: 'local'};</script><script type=\"text/javascript\">if (window.MathJax) {MathJax.Hub.Config({SVG: {font: \"STIX-Web\"}});}</script><script>requirejs.config({paths: { 'plotly': ['https://cdn.plot.ly/plotly-latest.min']},});if(!window._Plotly) {require(['plotly'],function(plotly) {window._Plotly=plotly;});}</script>"
      ]
     },
     "metadata": {},
     "output_type": "display_data"
    },
    {
     "data": {
      "application/vnd.jupyter.widget-view+json": {
       "model_id": "78c91da5deb04d97b5b96db91e58de90",
       "version_major": 2,
       "version_minor": 0
      },
      "text/plain": [
       "FigureWidget({\n",
       "    'data': [{'marker': {'color': 'rgb(229, 43, 80)',\n",
       "                         'line': {'color'…"
      ]
     },
     "metadata": {},
     "output_type": "display_data"
    }
   ],
   "source": [
    "import plotly\n",
    "import plotly.io as pio\n",
    "from plotly.offline import plot, init_notebook_mode\n",
    "import plotly.graph_objs as go\n",
    "import numpy as np\n",
    "import copy\n",
    "\n",
    "init_notebook_mode(connected=True)\n",
    "\n",
    "#\n",
    "# Base marker\n",
    "#\n",
    "baseMarker = {\n",
    "    'color' : 'rgb(178, 190, 181)',\n",
    "    'size' : 4,\n",
    "    'symbol' : 'circle',\n",
    "    'line' : {\n",
    "        'color' : 'rgb(178, 190, 181)',\n",
    "        'width' : 1\n",
    "    },\n",
    "    'opacity' : 0.1\n",
    "}\n",
    "\n",
    "#\n",
    "# Highlight marker (+ attribute customizations)\n",
    "#\n",
    "highlightMarker = copy.deepcopy(baseMarker)\n",
    "highlightMarker['color'] = 'rgb(229, 43, 80)'\n",
    "highlightMarker['line']['color'] = 'rgb(229, 43, 80)'\n",
    "highlightMarker['opacity'] = 1\n",
    "\n",
    "#\n",
    "# Plot boilerplate\n",
    "#\n",
    "def xyzPlot(x, y, z, name=None, marker=baseMarker, mode='markers', opacity=1):\n",
    "    plot = go.Scatter3d(\n",
    "        x=x,\n",
    "        y=y,\n",
    "        z=z,\n",
    "        mode=mode,\n",
    "        marker=dict(\n",
    "            color=marker['color'],\n",
    "            size=marker['size'],\n",
    "            symbol=marker['symbol'],\n",
    "            line=marker['line'],\n",
    "            opacity=marker['opacity']\n",
    "        ),\n",
    "        opacity=opacity,\n",
    "        name=name\n",
    "    )\n",
    "    return plot\n",
    "\n",
    "#\n",
    "# Dataset\n",
    "#\n",
    "xCol, yCol, zCol = subsetLog10.iloc[:, 0], subsetLog10.iloc[:, 1], subsetLog10.iloc[:, 2]\n",
    "x, y, z = np.array(xCol), np.array(yCol), np.array(zCol)\n",
    "xRange, yRange, zRange = [0,6], [0,6], [0,6]\n",
    "\n",
    "#\n",
    "# Gate/filter values\n",
    "#\n",
    "gate = {\n",
    "    'x' : 3.55,\n",
    "    'y' : 3.2, \n",
    "    'z' : 3.02\n",
    "}\n",
    "\n",
    "figData = []\n",
    "\n",
    "#\n",
    "# Here, we use numpy array masks to filter the original dataset \n",
    "# by the gate values specified above.\n",
    "#\n",
    "\n",
    "# tripNegative (\"highlighted\")\n",
    "xSub, ySub, zSub = x[x < gate['x']], y[y < gate['y']], z[z < gate['z']] \n",
    "figData.append(xyzPlot(xSub, ySub, zSub, name=\"tripNegative\", marker=highlightMarker))\n",
    "\n",
    "# tripPositive\n",
    "xSub, ySub, zSub = x[x >= gate['x']], y[y >= gate['y']], z[z >= gate['z']] \n",
    "figData.append(xyzPlot(xSub, ySub, zSub, name=\"tripPositive\", marker=baseMarker))\n",
    "\n",
    "# lag3Tim3Pos\n",
    "xSub, ySub, zSub = x[x < gate['x']], y[y >= gate['y']], z[z >= gate['z']] \n",
    "figData.append(xyzPlot(xSub, ySub, zSub, name=\"lag3Tim3Pos\", marker=baseMarker))\n",
    "\n",
    "# lag3Pd1Pos\n",
    "xSub, ySub, zSub = x[x >= gate['x']], y[y < gate['y']], z[z >= gate['z']] \n",
    "figData.append(xyzPlot(xSub, ySub, zSub, name=\"lag3Pd1Pos\", marker=baseMarker))\n",
    "\n",
    "# pd1Tim3Pos\n",
    "xSub, ySub, zSub = x[x >= gate['x']], y[y >= gate['y']], z[z < gate['z']] \n",
    "figData.append(xyzPlot(xSub, ySub, zSub, name=\"pd1Tim3Pos\", marker=baseMarker))\n",
    "\n",
    "# pd1Pos\n",
    "xSub, ySub, zSub = x[x >= gate['x']], y[y < gate['y']], z[z < gate['z']] \n",
    "figData.append(xyzPlot(xSub, ySub, zSub, name=\"pd1Pos\", marker=baseMarker))\n",
    "\n",
    "# tim3Pos\n",
    "xSub, ySub, zSub = x[x < gate['x']], y[y >= gate['y']], z[z < gate['z']] \n",
    "figData.append(xyzPlot(xSub, ySub, zSub, name=\"tim3Pos\", marker=baseMarker))\n",
    "\n",
    "figTitle = Path(fcsBaseFn).stem\n",
    "\n",
    "figLayout = go.Layout(\n",
    "    title=figTitle,\n",
    "    width=1024,\n",
    "    height=1024,\n",
    "    font=dict(family='\".SFNSDisplay-Regular\", -apple-system, BlinkMacSystemFont, \"Helvetica Neue\", \"Helvetica\", \"Calibri\", Arial, sans-serif', size=16, color='#000'),\n",
    "    scene = dict(\n",
    "        camera=dict(\n",
    "            up=dict(x=0, y=0, z=1),\n",
    "            center=dict(x=0, y=0, z=0),\n",
    "            eye=dict(x=-1.25, y=-1.15, z=1.8)\n",
    "        ),\n",
    "        xaxis = dict(title=xCol.name, range = xRange),\n",
    "        yaxis = dict(title=yCol.name, range = yRange),\n",
    "        zaxis = dict(title=zCol.name, range = zRange),\n",
    "        aspectmode = 'cube')\n",
    ")\n",
    "\n",
    "fig = go.FigureWidget(data=figData, layout=figLayout)\n",
    "fig"
   ]
  },
  {
   "cell_type": "code",
   "execution_count": 5,
   "metadata": {},
   "outputs": [],
   "source": [
    "# get reference to camera eye object\n",
    "eye = fig.layout.scene.camera.eye"
   ]
  },
  {
   "cell_type": "code",
   "execution_count": 6,
   "metadata": {},
   "outputs": [
    {
     "name": "stdout",
     "output_type": "stream",
     "text": [
      "-1.25 -1.15 1.8\n"
     ]
    }
   ],
   "source": [
    "# print initial camera eye position\n",
    "print(eye.x, eye.y, eye.z)"
   ]
  },
  {
   "cell_type": "code",
   "execution_count": 7,
   "metadata": {},
   "outputs": [
    {
     "name": "stdout",
     "output_type": "stream",
     "text": [
      "-1.25 -1.15 1.8\n"
     ]
    }
   ],
   "source": [
    "# print initial camera eye position\n",
    "print(eye.x, eye.y, eye.z)"
   ]
  },
  {
   "cell_type": "code",
   "execution_count": 8,
   "metadata": {},
   "outputs": [],
   "source": [
    "# Commit changes back to object\n",
    "eye.x = eye.x\n",
    "eye.y = eye.y\n",
    "eye.z = eye.z"
   ]
  },
  {
   "cell_type": "markdown",
   "metadata": {},
   "source": [
    "### HTML output looks fine"
   ]
  },
  {
   "cell_type": "code",
   "execution_count": 9,
   "metadata": {},
   "outputs": [
    {
     "data": {
      "text/plain": [
       "'file:///tmp/3d_rotated.html'"
      ]
     },
     "execution_count": 9,
     "metadata": {},
     "output_type": "execute_result"
    }
   ],
   "source": [
    "# Save figure to html file with custom view\n",
    "plot(fig, filename='/tmp/3d_rotated.html', auto_open=False)"
   ]
  },
  {
   "cell_type": "markdown",
   "metadata": {},
   "source": [
    "### SVG output appears corrupted to Adobe Illustrator 22.1, but can be opened in Chrome v70.0.3538.77 (albeit with the specified rendering error)"
   ]
  },
  {
   "cell_type": "code",
   "execution_count": 10,
   "metadata": {},
   "outputs": [],
   "source": [
    "pio.write_image(fig, '/tmp/3d_rotated.svg')"
   ]
  },
  {
   "cell_type": "markdown",
   "metadata": {},
   "source": [
    "### Other format exports raise errors"
   ]
  },
  {
   "cell_type": "code",
   "execution_count": 11,
   "metadata": {},
   "outputs": [
    {
     "ename": "ValueError",
     "evalue": "\nThe image request was rejected by the orca conversion utility\nwith the following error:\n   525: plotly.js error\n",
     "output_type": "error",
     "traceback": [
      "\u001b[0;31m---------------------------------------------------------------------------\u001b[0m",
      "\u001b[0;31mValueError\u001b[0m                                Traceback (most recent call last)",
      "\u001b[0;32m<ipython-input-11-2d301099bd04>\u001b[0m in \u001b[0;36m<module>\u001b[0;34m\u001b[0m\n\u001b[0;32m----> 1\u001b[0;31m \u001b[0mpio\u001b[0m\u001b[0;34m.\u001b[0m\u001b[0mwrite_image\u001b[0m\u001b[0;34m(\u001b[0m\u001b[0mfig\u001b[0m\u001b[0;34m,\u001b[0m \u001b[0;34m'/tmp/3d_rotated.pdf'\u001b[0m\u001b[0;34m,\u001b[0m \u001b[0mvalidate\u001b[0m\u001b[0;34m=\u001b[0m\u001b[0;32mFalse\u001b[0m\u001b[0;34m)\u001b[0m\u001b[0;34m\u001b[0m\u001b[0m\n\u001b[0m",
      "\u001b[0;32m~/anaconda3/lib/python3.6/site-packages/plotly/io/_orca.py\u001b[0m in \u001b[0;36mwrite_image\u001b[0;34m(fig, file, format, scale, width, height, validate)\u001b[0m\n\u001b[1;32m   1486\u001b[0m                         \u001b[0mwidth\u001b[0m\u001b[0;34m=\u001b[0m\u001b[0mwidth\u001b[0m\u001b[0;34m,\u001b[0m\u001b[0;34m\u001b[0m\u001b[0m\n\u001b[1;32m   1487\u001b[0m                         \u001b[0mheight\u001b[0m\u001b[0;34m=\u001b[0m\u001b[0mheight\u001b[0m\u001b[0;34m,\u001b[0m\u001b[0;34m\u001b[0m\u001b[0m\n\u001b[0;32m-> 1488\u001b[0;31m                         validate=validate)\n\u001b[0m\u001b[1;32m   1489\u001b[0m \u001b[0;34m\u001b[0m\u001b[0m\n\u001b[1;32m   1490\u001b[0m     \u001b[0;31m# Open file\u001b[0m\u001b[0;34m\u001b[0m\u001b[0;34m\u001b[0m\u001b[0m\n",
      "\u001b[0;32m~/anaconda3/lib/python3.6/site-packages/plotly/io/_orca.py\u001b[0m in \u001b[0;36mto_image\u001b[0;34m(fig, format, width, height, scale, validate)\u001b[0m\n\u001b[1;32m   1391\u001b[0m \u001b[0mUnfortunately\u001b[0m\u001b[0;34m,\u001b[0m \u001b[0mwe\u001b[0m \u001b[0mdon\u001b[0m\u001b[0;31m'\u001b[0m\u001b[0mt\u001b[0m \u001b[0myet\u001b[0m \u001b[0mknow\u001b[0m \u001b[0mof\u001b[0m \u001b[0man\u001b[0m \u001b[0measy\u001b[0m \u001b[0mway\u001b[0m \u001b[0mto\u001b[0m \u001b[0minstall\u001b[0m \u001b[0mpoppler\u001b[0m \u001b[0mon\u001b[0m \u001b[0mWindows\u001b[0m\u001b[0;34m.\u001b[0m\u001b[0;34m\u001b[0m\u001b[0m\n\u001b[1;32m   1392\u001b[0m \"\"\"\n\u001b[0;32m-> 1393\u001b[0;31m         \u001b[0;32mraise\u001b[0m \u001b[0mValueError\u001b[0m\u001b[0;34m(\u001b[0m\u001b[0merr_message\u001b[0m\u001b[0;34m)\u001b[0m\u001b[0;34m\u001b[0m\u001b[0m\n\u001b[0m\u001b[1;32m   1394\u001b[0m \u001b[0;34m\u001b[0m\u001b[0m\n\u001b[1;32m   1395\u001b[0m \u001b[0;34m\u001b[0m\u001b[0m\n",
      "\u001b[0;31mValueError\u001b[0m: \nThe image request was rejected by the orca conversion utility\nwith the following error:\n   525: plotly.js error\n"
     ]
    }
   ],
   "source": [
    "pio.write_image(fig, '/tmp/3d_rotated.pdf', validate=False)"
   ]
  },
  {
   "cell_type": "code",
   "execution_count": null,
   "metadata": {},
   "outputs": [],
   "source": []
  }
 ],
 "metadata": {
  "kernelspec": {
   "display_name": "Python 3",
   "language": "python",
   "name": "python3"
  },
  "language_info": {
   "codemirror_mode": {
    "name": "ipython",
    "version": 3
   },
   "file_extension": ".py",
   "mimetype": "text/x-python",
   "name": "python",
   "nbconvert_exporter": "python",
   "pygments_lexer": "ipython3",
   "version": "3.6.3"
  }
 },
 "nbformat": 4,
 "nbformat_minor": 2
}
